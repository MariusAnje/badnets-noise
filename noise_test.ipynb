{
 "cells": [
  {
   "cell_type": "code",
   "execution_count": 2,
   "metadata": {},
   "outputs": [],
   "source": [
    "import torch\n",
    "import argparse\n",
    "import os\n",
    "import pathlib\n",
    "import re\n",
    "import time\n",
    "import datetime\n",
    "\n",
    "import pandas as pd\n",
    "import torch\n",
    "from torch.utils.data import DataLoader\n",
    "\n",
    "from dataset import build_poisoned_training_set, build_testset\n",
    "from deeplearning import evaluate_badnets, optimizer_picker, train_one_epoch\n",
    "from models import BadNet"
   ]
  },
  {
   "cell_type": "code",
   "execution_count": 9,
   "metadata": {},
   "outputs": [
    {
     "name": "stdout",
     "output_type": "stream",
     "text": [
      "Poison 6000 over 60000 samples ( poisoning rate 0.1)\n",
      "Poison 10000 over 10000 samples ( poisoning rate 1.0)\n"
     ]
    }
   ],
   "source": [
    "class Args():\n",
    "    def __init__(self) -> None:\n",
    "        pass\n",
    "args = Args()\n",
    "args.nb_classes = 10\n",
    "args.dataset = \"MNIST\"\n",
    "args.batch_size = 64\n",
    "args.data_path = \"./data\"\n",
    "args.trigger_path=\"./triggers/trigger_white.png\"\n",
    "args.trigger_label = 1\n",
    "args.trigger_size = 5\n",
    "args.poisoning_rate = 0.1\n",
    "args.num_workers = 0\n",
    "device = \"cpu\"\n",
    "\n",
    "dataset_train, args.nb_classes = build_poisoned_training_set(is_train=True, args=args)\n",
    "dataset_val_clean, dataset_val_poisoned = build_testset(is_train=False, args=args)\n",
    "    \n",
    "data_loader_train_file        = DataLoader(dataset_train,         batch_size=args.batch_size, shuffle=True, num_workers=args.num_workers)\n",
    "data_loader_val_clean    = DataLoader(dataset_val_clean,     batch_size=args.batch_size, shuffle=True, num_workers=args.num_workers)\n",
    "data_loader_val_poisoned = DataLoader(dataset_val_poisoned,  batch_size=args.batch_size, shuffle=True, num_workers=args.num_workers) \n",
    "model = BadNet(input_channels=dataset_train.channels, output_num=args.nb_classes).to(device)"
   ]
  },
  {
   "cell_type": "code",
   "execution_count": 23,
   "metadata": {},
   "outputs": [
    {
     "name": "stdout",
     "output_type": "stream",
     "text": [
      "Test Clean Accuracy(TCA): 0.8271\n",
      "Attack Success Rate(ASR): 0.9868\n",
      "Test Clean Accuracy(TCA): 0.7823\n",
      "Attack Success Rate(ASR): 0.9794\n",
      "Test Clean Accuracy(TCA): 0.3298\n",
      "Attack Success Rate(ASR): 0.8135\n",
      "Test Clean Accuracy(TCA): 0.2310\n",
      "Attack Success Rate(ASR): 0.9578\n"
     ]
    }
   ],
   "source": [
    "def attack_and_test(sigma):\n",
    "    state_dict = torch.load(\"checkpoints/badnet-MNIST.pth\")\n",
    "    model.load_state_dict(state_dict)\n",
    "    for m in model.modules():\n",
    "        if isinstance(m, torch.nn.Linear) or isinstance(m, torch.nn.Conv2d):\n",
    "            scale = m.weight.abs().max().item()\n",
    "            m.weight.data += torch.randn_like(m.weight.data) * sigma * scale\n",
    "    test_stats = evaluate_badnets(data_loader_val_clean, data_loader_val_poisoned, model, device)\n",
    "    print(f\"Test Clean Accuracy(TCA): {test_stats['clean_acc']:.4f}\")\n",
    "    print(f\"Attack Success Rate(ASR): {test_stats['asr']:.4f}\")\n",
    "\n",
    "attack_and_test(0.05)\n",
    "attack_and_test(0.1)\n",
    "attack_and_test(0.2)\n",
    "attack_and_test(0.3)"
   ]
  },
  {
   "cell_type": "code",
   "execution_count": null,
   "metadata": {},
   "outputs": [],
   "source": []
  }
 ],
 "metadata": {
  "kernelspec": {
   "display_name": "py39",
   "language": "python",
   "name": "python3"
  },
  "language_info": {
   "codemirror_mode": {
    "name": "ipython",
    "version": 3
   },
   "file_extension": ".py",
   "mimetype": "text/x-python",
   "name": "python",
   "nbconvert_exporter": "python",
   "pygments_lexer": "ipython3",
   "version": "3.9.12"
  },
  "orig_nbformat": 4
 },
 "nbformat": 4,
 "nbformat_minor": 2
}
